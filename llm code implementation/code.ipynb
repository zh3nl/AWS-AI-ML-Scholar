{
 "cells": [
  {
   "cell_type": "code",
   "execution_count": null,
   "id": "ca6d1131",
   "metadata": {},
   "outputs": [],
   "source": [
    "# Tokenization using Hugging Face's Transformers\n",
    "from transformers import AutoTokenizer\n",
    "tokenizer = AutoTokenizer.from_pretrained(\"gpt-2\")\n",
    "tokens = tokenizer.tokenize(\"A young girl named Alice sits bored by a riverbank...\")"
   ]
  },
  {
   "cell_type": "code",
   "execution_count": null,
   "id": "7746feee",
   "metadata": {},
   "outputs": [],
   "source": [
    "# Embedding and Processing with a Transformer Model\n",
    "from transformers import AutoModel\n",
    "model = AutoModel.from_pretrained(\"gpt-2\")\n",
    "inputs = tokenizer(\"A young girl named Alice sits bored by a riverbank...\", return_tensors=\"pt\")\n",
    "outputs = model(**inputs)\n",
    "last_hidden_states = outputs.last_hidden_state"
   ]
  },
  {
   "cell_type": "code",
   "execution_count": null,
   "id": "cd495b7a",
   "metadata": {},
   "outputs": [],
   "source": [
    "# Visualization of Embeddings (Simplified Example)\n",
    "import matplotlib.pyplot as plt\n",
    "plt.imshow(last_hidden_states.detach().numpy()[0], cmap='viridis')\n",
    "plt.colorbar()\n",
    "plt.show()"
   ]
  }
 ],
 "metadata": {
  "kernelspec": {
   "display_name": "base",
   "language": "python",
   "name": "python3"
  },
  "language_info": {
   "codemirror_mode": {
    "name": "ipython",
    "version": 3
   },
   "file_extension": ".py",
   "mimetype": "text/x-python",
   "name": "python",
   "nbconvert_exporter": "python",
   "pygments_lexer": "ipython3",
   "version": "3.12.7"
  }
 },
 "nbformat": 4,
 "nbformat_minor": 5
}
